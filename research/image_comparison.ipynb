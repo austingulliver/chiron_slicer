{
 "metadata": {
  "language_info": {
   "codemirror_mode": {
    "name": "ipython",
    "version": 3
   },
   "file_extension": ".py",
   "mimetype": "text/x-python",
   "name": "python",
   "nbconvert_exporter": "python",
   "pygments_lexer": "ipython3",
   "version": "3.7.7-final"
  },
  "orig_nbformat": 2,
  "kernelspec": {
   "name": "python3",
   "display_name": "Python 3",
   "language": "python"
  }
 },
 "nbformat": 4,
 "nbformat_minor": 2,
 "cells": [
  {
   "cell_type": "code",
   "execution_count": null,
   "metadata": {},
   "outputs": [],
   "source": []
  },
  {
   "cell_type": "code",
   "execution_count": 10,
   "metadata": {},
   "outputs": [
    {
     "output_type": "stream",
     "name": "stdout",
     "text": [
      "All Packages Loaded\n"
     ]
    }
   ],
   "source": [
    "# import the necessary packages\n",
    "\n",
    "from skimage.metrics import structural_similarity as ssim\n",
    "import matplotlib.pyplot as plt\n",
    "import numpy as np\n",
    "import cv2\n",
    "print (\"All Packages Loaded\")"
   ]
  },
  {
   "cell_type": "code",
   "execution_count": 29,
   "metadata": {},
   "outputs": [
    {
     "output_type": "stream",
     "name": "stdout",
     "text": [
      "The mse  : 0.0 and the ssim : 1.0\n"
     ]
    }
   ],
   "source": [
    "def mse(imageA, imageB):\n",
    "\t# the 'Mean Squared Error' between the two images is the\n",
    "\t# sum of the squared difference between the two images;\n",
    "\t# NOTE: the two images must have the same dimension\n",
    "\terr = np.sum((imageA.astype(\"float\") - imageB.astype(\"float\")) ** 2)\n",
    "\terr /= float(imageA.shape[0] * imageA.shape[1])\n",
    "\t\n",
    "\t# return the MSE, the lower the error, the more \"similar\"\n",
    "\t# the two images are\n",
    "\treturn err\n",
    "def compare_images(imageA, imageB, title):\n",
    "    # compute the mean squared error and structural similarity\n",
    "\t# index for the images\n",
    "\tm = mse(imageA, imageB)\n",
    "\ts = ssim(imageA, imageB)\n",
    "\n",
    "\tprint(\"The mse  : \" + str(m) + \" and the ssim : \" + str(s))\n",
    "\t# # setup the figure\n",
    "\t# fig = plt.figure(title)\n",
    "\t# plt.suptitle(\"MSE: %.2f, SSIM: %.2f\" % (m, s))\n",
    "\t# # show first image\n",
    "\t# ax = fig.add_subplot(1, 2, 1)\n",
    "\t# plt.imshow(imageA, cmap = plt.cm.gray)\n",
    "\t# plt.axis(\"off\")\n",
    "\t# # show the second image\n",
    "\t# ax = fig.add_subplot(1, 2, 2)\n",
    "\t# plt.imshow(imageB, cmap = plt.cm.gray)\n",
    "\t# plt.axis(\"off\")\n",
    "\t# # show the images\n",
    "\t# plt.show()\n",
    "\n",
    "original = cv2.imread(\"images_comparison/drone612x612.jpg\")\n",
    "# contrast = cv2.imread(\"images/jp_gates_contrast.png\")\n",
    "# shopped = cv2.imread(\"images/jp_gates_photoshopped.png\")\n",
    "# convert the images to grayscale\n",
    "original = cv2.cvtColor(original, cv2.COLOR_BGR2GRAY)\n",
    "# contrast = cv2.cvtColor(contrast, cv2.COLOR_BGR2GRAY)\n",
    "# shopped = cv2.cvtColor(shopped, cv2.COLOR_BGR2GRAY)\n",
    "\n",
    "compare_images(original, original, \"Original vs. Original\")\n"
   ]
  },
  {
   "cell_type": "code",
   "execution_count": null,
   "metadata": {},
   "outputs": [],
   "source": [
    "# initialize the figure\n",
    "fig = plt.figure(\"Images\")\n",
    "images = (\"Original\", original), (\"Contrast\", contrast), (\"Photoshopped\", shopped)\n",
    "# loop over the images\n",
    "for (i, (name, image)) in enumerate(images):\n",
    "\t# show the image\n",
    "\tax = fig.add_subplot(1, 3, i + 1)\n",
    "\tax.set_title(name)\n",
    "\tplt.imshow(image, cmap = plt.cm.gray)\n",
    "\tplt.axis(\"off\")\n",
    "# show the figure\n",
    "plt.show()\n",
    "# compare the images\n",
    "compare_images(original, original, \"Original vs. Original\")\n",
    "compare_images(original, contrast, \"Original vs. Contrast\")\n",
    "compare_images(original, shopped, \"Original vs. Photoshopped\")"
   ]
  }
 ]
}