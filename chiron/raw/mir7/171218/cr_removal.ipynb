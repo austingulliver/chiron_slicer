{
 "cells": [
  {
   "cell_type": "code",
   "execution_count": 4,
   "metadata": {},
   "outputs": [
    {
     "output_type": "stream",
     "name": "stdout",
     "text": [
      "All libraries imported successfully!\n"
     ]
    }
   ],
   "source": [
    "\n",
    "import glob\n",
    "from astropy.io import fits\n",
    "import numpy as np\n",
    "from astropy.stats import mad_std\n",
    "from datetime import date\n",
    "print (\"All libraries imported successfully!\") "
   ]
  },
  {
   "cell_type": "code",
   "execution_count": 8,
   "metadata": {},
   "outputs": [],
   "source": [
    "#This is script must be in the same direcroty as the raw files\n",
    "#There is a minimum of 3 files needed to clean them from CR.\n",
    "\n",
    "\n",
    "def clean_cr_from_images( target, mode, ccd_sum):\n",
    "    \n",
    "    ####################################\n",
    "    #1) Cosntants to be used\n",
    "    ####################################\n",
    "    \n",
    "    limit_mad= 10 # a value need to be 'limit_mad' times bigger than the rest of the values to be identified as outlier \n",
    "    \n",
    "    \n",
    "    \n",
    "    \n",
    "    ####################################\n",
    "    #1) Filter files according to input\n",
    "    ####################################\n",
    "    all_files = []\n",
    "    target_files= []\n",
    "    \n",
    "    for file in glob.glob(\"chi*.fits\"):\n",
    "        fits_image_filename = file[file.find(\"\\\\\")+1:] \n",
    "        \n",
    "        with fits.open(fits_image_filename) as hdul:\n",
    "\n",
    "            h_object= hdul[0].header['OBJECT'].strip().lower()\n",
    "            h_decker= hdul[0].header['DECKER'].strip().lower()\n",
    "            h_ccd_sum =  hdul[0].header['CCDSUM'].strip().lower()          \n",
    "            \n",
    "            if h_object == target and h_decker == mode and h_ccd_sum == ccd_sum:\n",
    "                #print (\" -->> \"+h_object + \"  \"+ h_decker + \" \" +h_ccd_sum)\n",
    "                n_columns = int( hdul[0].header['NAXIS1'] )\n",
    "                n_rows = int( hdul[0].header['NAXIS2'])                \n",
    "                target_files.append(fits_image_filename)\n",
    "               \n",
    "    \n",
    "    files_num =len(target_files)\n",
    "    if (files_num <=2 ):\n",
    "        raise  Exception (\"There are not enough file to clean them from CR\")\n",
    "    else:\n",
    "        print (\"Number of files found: \" +str (files_num))\n",
    "        #print (target_files)\n",
    "    \n",
    "    #################################################################\n",
    "    # 2) Create Median Master bias + Master Median Absolute Deviation\n",
    "    #################################################################\n",
    "    \n",
    "    data_cube= np.zeros((n_rows,n_columns,files_num))\n",
    "    \n",
    "    for idx in range (files_num):\n",
    "        with fits.open(target_files[idx]) as hd:\n",
    "            data = (hd[0].data).copy()            \n",
    "            data_cube[:,:,idx ] = data\n",
    "\n",
    "    master_median = np.median(data_cube, axis=2 )\n",
    "    master_abs_mad = mad_std(data_cube, axis=2 )\n",
    "    \n",
    "    #################################################################\n",
    "    # 2) Cleaning CR from every image + re writing on disk\n",
    "    #################################################################   \n",
    "    \n",
    "    today = date.today() # To be used in all headers\n",
    "    file_date = today.strftime(\"%b-%d-%Y\")\n",
    "    \n",
    "    for f_idx in range (files_num):\n",
    "        with fits.open(target_files[f_idx]) as hd0:\n",
    "            #Header\n",
    "            img_header=(hd0[0].header).copy()\n",
    "            #cr-cleaned is a keyword used in down the road\n",
    "            img_header['HISTORY']='CR-CLEANED : Cosmic Rays removed from this file on '+file_date+' by finding the MAD of each pixel in '+str(files_num)+ ' ' +target +' files.'\n",
    "\n",
    "\n",
    "            #Data \n",
    "            img_data=(hd0[0].data).copy()            \n",
    "            exclude = (img_data - master_median) / master_abs_mad > limit_mad\n",
    "            img_data[exclude] = 0\n",
    "            mask = np.multiply( exclude , master_median)\n",
    "            img_data = np.add(img_data,  mask)    \n",
    "            \n",
    "        fits.writeto (target_files[f_idx], img_data, header=img_header, overwrite=True )\n",
    "        print (\"File : \"+target_files[f_idx]+  \"had \"+str(np.count_nonzero(exclude))+\"cr. It has been cleaned and overwritten successfully.\")\n",
    "\n",
    "        \n",
    "        \n",
    "            \n",
    "            \n",
    "        \n",
    "       \n",
    "    print(\" - - - - -  End of Script - - - - - -  \")\n",
    "            \n",
    "    \n",
    "    \n",
    "\n",
    "\n"
   ]
  },
  {
   "cell_type": "code",
   "execution_count": 6,
   "metadata": {},
   "outputs": [
    {
     "output_type": "stream",
     "name": "stdout",
     "text": [
      "Number of files found: 18\n"
     ]
    },
    {
     "output_type": "error",
     "ename": "UnboundLocalError",
     "evalue": "local variable 'date' referenced before assignment",
     "traceback": [
      "\u001b[1;31m---------------------------------------------------------------------------\u001b[0m",
      "\u001b[1;31mUnboundLocalError\u001b[0m                         Traceback (most recent call last)",
      "\u001b[1;32m<ipython-input-6-1bfd48dd4656>\u001b[0m in \u001b[0;36m<module>\u001b[1;34m\u001b[0m\n\u001b[1;32m----> 1\u001b[1;33m \u001b[0mclean_cr_from_images\u001b[0m\u001b[1;33m(\u001b[0m \u001b[1;34m'bias'\u001b[0m\u001b[1;33m,\u001b[0m\u001b[1;34m'slicer'\u001b[0m \u001b[1;33m,\u001b[0m \u001b[1;34m'3 1'\u001b[0m\u001b[1;33m)\u001b[0m\u001b[1;33m\u001b[0m\u001b[1;33m\u001b[0m\u001b[0m\n\u001b[0m",
      "\u001b[1;32m<ipython-input-5-c2dfc057cb39>\u001b[0m in \u001b[0;36mclean_cr_from_images\u001b[1;34m(target, mode, ccd_sum)\u001b[0m\n\u001b[0;32m     61\u001b[0m     \u001b[1;31m#################################################################\u001b[0m\u001b[1;33m\u001b[0m\u001b[1;33m\u001b[0m\u001b[1;33m\u001b[0m\u001b[0m\n\u001b[0;32m     62\u001b[0m \u001b[1;33m\u001b[0m\u001b[0m\n\u001b[1;32m---> 63\u001b[1;33m     \u001b[0mtoday\u001b[0m \u001b[1;33m=\u001b[0m \u001b[0mdate\u001b[0m\u001b[1;33m.\u001b[0m\u001b[0mtoday\u001b[0m\u001b[1;33m(\u001b[0m\u001b[1;33m)\u001b[0m \u001b[1;31m# To be used in all headers\u001b[0m\u001b[1;33m\u001b[0m\u001b[1;33m\u001b[0m\u001b[0m\n\u001b[0m\u001b[0;32m     64\u001b[0m     \u001b[0mdate\u001b[0m \u001b[1;33m=\u001b[0m \u001b[0mtoday\u001b[0m\u001b[1;33m.\u001b[0m\u001b[0mstrftime\u001b[0m\u001b[1;33m(\u001b[0m\u001b[1;34m\"%b-%d-%Y\"\u001b[0m\u001b[1;33m)\u001b[0m\u001b[1;33m\u001b[0m\u001b[1;33m\u001b[0m\u001b[0m\n\u001b[0;32m     65\u001b[0m \u001b[1;33m\u001b[0m\u001b[0m\n",
      "\u001b[1;31mUnboundLocalError\u001b[0m: local variable 'date' referenced before assignment"
     ]
    }
   ],
   "source": [
    "clean_cr_from_images( 'bias','slicer' , '3 1')"
   ]
  },
  {
   "cell_type": "code",
   "execution_count": 9,
   "metadata": {},
   "outputs": [
    {
     "output_type": "stream",
     "name": "stdout",
     "text": [
      "Number of files found: 41\n",
      "File : chi171218.1145.fitshad 0cr. It has been cleaned and overwritten successfully.\n",
      "File : chi171218.1146.fitshad 0cr. It has been cleaned and overwritten successfully.\n",
      "File : chi171218.1147.fitshad 1cr. It has been cleaned and overwritten successfully.\n",
      "File : chi171218.1148.fitshad 1cr. It has been cleaned and overwritten successfully.\n",
      "File : chi171218.1149.fitshad 0cr. It has been cleaned and overwritten successfully.\n",
      "File : chi171218.1150.fitshad 1cr. It has been cleaned and overwritten successfully.\n",
      "File : chi171218.1151.fitshad 0cr. It has been cleaned and overwritten successfully.\n",
      "File : chi171218.1152.fitshad 0cr. It has been cleaned and overwritten successfully.\n",
      "File : chi171218.1153.fitshad 0cr. It has been cleaned and overwritten successfully.\n",
      "File : chi171218.1154.fitshad 0cr. It has been cleaned and overwritten successfully.\n",
      "File : chi171218.1155.fitshad 0cr. It has been cleaned and overwritten successfully.\n",
      "File : chi171218.1156.fitshad 0cr. It has been cleaned and overwritten successfully.\n",
      "File : chi171218.1157.fitshad 0cr. It has been cleaned and overwritten successfully.\n",
      "File : chi171218.1158.fitshad 1cr. It has been cleaned and overwritten successfully.\n",
      "File : chi171218.1159.fitshad 1cr. It has been cleaned and overwritten successfully.\n",
      "File : chi171218.1160.fitshad 0cr. It has been cleaned and overwritten successfully.\n",
      "File : chi171218.1161.fitshad 0cr. It has been cleaned and overwritten successfully.\n",
      "File : chi171218.1162.fitshad 1cr. It has been cleaned and overwritten successfully.\n",
      "File : chi171218.1163.fitshad 2cr. It has been cleaned and overwritten successfully.\n",
      "File : chi171218.1164.fitshad 0cr. It has been cleaned and overwritten successfully.\n",
      "File : chi171218.1165.fitshad 0cr. It has been cleaned and overwritten successfully.\n",
      "File : chi171218.1166.fitshad 0cr. It has been cleaned and overwritten successfully.\n",
      "File : chi171218.1167.fitshad 1cr. It has been cleaned and overwritten successfully.\n",
      "File : chi171218.1168.fitshad 0cr. It has been cleaned and overwritten successfully.\n",
      "File : chi171218.1169.fitshad 0cr. It has been cleaned and overwritten successfully.\n",
      "File : chi171218.1170.fitshad 0cr. It has been cleaned and overwritten successfully.\n",
      "File : chi171218.1171.fitshad 0cr. It has been cleaned and overwritten successfully.\n",
      "File : chi171218.1172.fitshad 0cr. It has been cleaned and overwritten successfully.\n",
      "File : chi171218.1173.fitshad 1cr. It has been cleaned and overwritten successfully.\n",
      "File : chi171218.1174.fitshad 1cr. It has been cleaned and overwritten successfully.\n",
      "File : chi171218.1175.fitshad 0cr. It has been cleaned and overwritten successfully.\n",
      "File : chi171218.1176.fitshad 1cr. It has been cleaned and overwritten successfully.\n",
      "File : chi171218.1177.fitshad 1cr. It has been cleaned and overwritten successfully.\n",
      "File : chi171218.1178.fitshad 0cr. It has been cleaned and overwritten successfully.\n",
      "File : chi171218.1179.fitshad 0cr. It has been cleaned and overwritten successfully.\n",
      "File : chi171218.1180.fitshad 1cr. It has been cleaned and overwritten successfully.\n",
      "File : chi171218.1181.fitshad 0cr. It has been cleaned and overwritten successfully.\n",
      "File : chi171218.1182.fitshad 0cr. It has been cleaned and overwritten successfully.\n",
      "File : chi171218.1183.fitshad 0cr. It has been cleaned and overwritten successfully.\n",
      "File : chi171218.1184.fitshad 0cr. It has been cleaned and overwritten successfully.\n",
      "File : chi171218.mstr_stellar.fitshad 0cr. It has been cleaned and overwritten successfully.\n",
      " - - - - -  End of Script - - - - - -  \n"
     ]
    }
   ],
   "source": [
    "clean_cr_from_images( 'sirius','slicer' , '3 1')"
   ]
  },
  {
   "cell_type": "code",
   "execution_count": 32,
   "metadata": {},
   "outputs": [
    {
     "name": "stdout",
     "output_type": "stream",
     "text": [
      "Number of files found: 30\n",
      "File : chi171218.1039.fitshad 72cr. It has been cleaned and overwritten successfully.\n",
      "File : chi171218.1040.fitshad 77cr. It has been cleaned and overwritten successfully.\n",
      "File : chi171218.1041.fitshad 105cr. It has been cleaned and overwritten successfully.\n",
      "File : chi171218.1042.fitshad 68cr. It has been cleaned and overwritten successfully.\n",
      "File : chi171218.1043.fitshad 34cr. It has been cleaned and overwritten successfully.\n",
      "File : chi171218.1044.fitshad 62cr. It has been cleaned and overwritten successfully.\n",
      "File : chi171218.1045.fitshad 80cr. It has been cleaned and overwritten successfully.\n",
      "File : chi171218.1046.fitshad 45cr. It has been cleaned and overwritten successfully.\n",
      "File : chi171218.1047.fitshad 52cr. It has been cleaned and overwritten successfully.\n",
      "File : chi171218.1048.fitshad 117cr. It has been cleaned and overwritten successfully.\n",
      "File : chi171218.1049.fitshad 84cr. It has been cleaned and overwritten successfully.\n",
      "File : chi171218.1050.fitshad 59cr. It has been cleaned and overwritten successfully.\n",
      "File : chi171218.1051.fitshad 52cr. It has been cleaned and overwritten successfully.\n",
      "File : chi171218.1052.fitshad 103cr. It has been cleaned and overwritten successfully.\n",
      "File : chi171218.1053.fitshad 49cr. It has been cleaned and overwritten successfully.\n",
      "File : chi171218.1241.fitshad 95cr. It has been cleaned and overwritten successfully.\n",
      "File : chi171218.1242.fitshad 57cr. It has been cleaned and overwritten successfully.\n",
      "File : chi171218.1243.fitshad 49cr. It has been cleaned and overwritten successfully.\n",
      "File : chi171218.1244.fitshad 34cr. It has been cleaned and overwritten successfully.\n",
      "File : chi171218.1245.fitshad 78cr. It has been cleaned and overwritten successfully.\n",
      "File : chi171218.1246.fitshad 96cr. It has been cleaned and overwritten successfully.\n",
      "File : chi171218.1247.fitshad 68cr. It has been cleaned and overwritten successfully.\n",
      "File : chi171218.1248.fitshad 59cr. It has been cleaned and overwritten successfully.\n",
      "File : chi171218.1249.fitshad 71cr. It has been cleaned and overwritten successfully.\n",
      "File : chi171218.1250.fitshad 53cr. It has been cleaned and overwritten successfully.\n",
      "File : chi171218.1251.fitshad 51cr. It has been cleaned and overwritten successfully.\n",
      "File : chi171218.1252.fitshad 93cr. It has been cleaned and overwritten successfully.\n",
      "File : chi171218.1253.fitshad 134cr. It has been cleaned and overwritten successfully.\n",
      "File : chi171218.1254.fitshad 72cr. It has been cleaned and overwritten successfully.\n",
      "File : chi171218.1255.fitshad 63cr. It has been cleaned and overwritten successfully.\n",
      " - - - - -  End of Script - - - - - -  \n"
     ]
    }
   ],
   "source": [
    "clean_cr_from_images( 'quartz','slicer' , '3 1')"
   ]
  },
  {
   "cell_type": "code",
   "execution_count": 3,
   "metadata": {},
   "outputs": [],
   "source": [
    "\n",
    "    \n",
    "    "
   ]
  },
  {
   "cell_type": "code",
   "execution_count": 60,
   "metadata": {},
   "outputs": [
    {
     "name": "stdout",
     "output_type": "stream",
     "text": [
      "Master Median + Absolute Median developed \n",
      "0\n"
     ]
    },
    {
     "name": "stderr",
     "output_type": "stream",
     "text": [
      "C:\\Users\\mrstu\\Anaconda3\\lib\\site-packages\\ipykernel_launcher.py:44: RuntimeWarning: divide by zero encountered in true_divide\n",
      "C:\\Users\\mrstu\\Anaconda3\\lib\\site-packages\\ipykernel_launcher.py:44: RuntimeWarning: invalid value encountered in true_divide\n",
      "C:\\Users\\mrstu\\Anaconda3\\lib\\site-packages\\ipykernel_launcher.py:44: RuntimeWarning: invalid value encountered in greater\n"
     ]
    },
    {
     "name": "stdout",
     "output_type": "stream",
     "text": [
      "All good !\n"
     ]
    }
   ],
   "source": [
    "# 1) Create Median Master bias + the Master Median Absolute Deviation \n",
    "\n",
    "\n",
    "# with fits.open(bias_file) as ref:\n",
    "#     file=ref[0].data\n",
    "#     n_columns=file.shape[0]\n",
    "#     n_rows=file.shape[1]\n",
    "\n",
    "n_columns=4112\n",
    "n_rows=1432\n",
    "images_num = 18\n",
    "\n",
    "master_median= np.zeros((n_columns,n_rows))\n",
    "master_abs_mad= np.zeros((n_columns,n_rows))\n",
    "data_cube= np.zeros((n_columns,n_rows,images_num))\n",
    "\n",
    "\n",
    "\n",
    "\n",
    "for idx in range (len(bias_files)):\n",
    "    with fits.open(bias_files[idx]) as hd:\n",
    "        \n",
    "        data = hd[0].data\n",
    "        data_cube[:,:,idx ] = data\n",
    "\n",
    "        \n",
    "master_median = np.median(data_cube, axis=2 )\n",
    "master_abs_mad = mad_std(data_cube, axis=2 )\n",
    "\n",
    "\n",
    "\n",
    "print (\"Master Median + Absolute Median developed \")\n",
    "\n",
    "\n",
    "# Iterate over each img . For each image \n",
    "\n",
    "outFile = 'cr_cleaned/chi_try_1054.fits'\n",
    "# for j in range (len(bias_files)):\n",
    "\n",
    "with fits.open(bias_files[0]) as hd0:\n",
    "    img_header=hd0[0].header\n",
    "    img_data=hd0[0].data\n",
    "    \n",
    "    \n",
    "    exclude = (img_data - master_median) / master_abs_mad > 10\n",
    "    img_data[exclude] = 0\n",
    "   \n",
    "    \n",
    "    mask = np.multiply( exclude , master_median)\n",
    "    \n",
    "    \n",
    "    img_data = np.add(img_data,  mask)\n",
    "    \n",
    "    print (np.count_nonzero (img_data==0) )\n",
    "    \n",
    "    #hd0.writeto(outFile)\n",
    "\n",
    "hdu=fits.PrimaryHDU(img_data,img_header)\n",
    "hdul = fits.HDUList([hdu])\n",
    "hdul.writeto(outFile,overwrite=True)\n",
    "\n",
    "# n_columns= img_header.shape[0]\n",
    "# n_row= img_header.shape[1]\n",
    "\n",
    "\n",
    "\n",
    "#print ( \"Number of CR found :\" + str(np.sum(exclude))) \n",
    "print (\"All good !\")\n",
    "\n",
    "\n",
    "        \n",
    "    \n",
    "        \n",
    "        \n",
    "        "
   ]
  },
  {
   "cell_type": "code",
   "execution_count": 51,
   "metadata": {},
   "outputs": [
    {
     "name": "stdout",
     "output_type": "stream",
     "text": [
      "[ 0 13 14 15 16 17]\n"
     ]
    }
   ],
   "source": []
  },
  {
   "cell_type": "code",
   "execution_count": 3,
   "metadata": {},
   "outputs": [],
   "source": []
  },
  {
   "cell_type": "code",
   "execution_count": null,
   "metadata": {},
   "outputs": [],
   "source": [
    "\n"
   ]
  },
  {
   "cell_type": "code",
   "execution_count": null,
   "metadata": {},
   "outputs": [],
   "source": []
  },
  {
   "cell_type": "code",
   "execution_count": null,
   "metadata": {},
   "outputs": [],
   "source": []
  }
 ],
 "metadata": {
  "kernelspec": {
   "display_name": "Python 3",
   "language": "python",
   "name": "python3"
  },
  "language_info": {
   "codemirror_mode": {
    "name": "ipython",
    "version": 3
   },
   "file_extension": ".py",
   "mimetype": "text/x-python",
   "name": "python",
   "nbconvert_exporter": "python",
   "pygments_lexer": "ipython3",
   "version": "3.7.7-final"
  }
 },
 "nbformat": 4,
 "nbformat_minor": 4
}