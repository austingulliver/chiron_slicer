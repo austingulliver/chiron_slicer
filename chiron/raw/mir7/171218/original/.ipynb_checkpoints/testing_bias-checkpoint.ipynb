{
 "cells": [
  {
   "cell_type": "code",
   "execution_count": 1,
   "metadata": {},
   "outputs": [
    {
     "name": "stdout",
     "output_type": "stream",
     "text": [
      "All libraries imported successfully!\n"
     ]
    }
   ],
   "source": [
    "\n",
    "import glob\n",
    "from astropy.io import fits\n",
    "import numpy as np\n",
    "from astropy.stats import mad_std\n",
    "print (\"All libraries imported successfully!\") "
   ]
  },
  {
   "cell_type": "code",
   "execution_count": 5,
   "metadata": {},
   "outputs": [],
   "source": [
    "#This is script must be in the same direcroty as the raw files\n",
    "#There is a minimum of 3 files needed to clean them from CR.\n",
    "\n",
    "\n",
    "def clean_cr_from_images( target, mode, ccd_sum):\n",
    "    \n",
    "    ####################################\n",
    "    #1) Cosntants to be used\n",
    "    ####################################\n",
    "    \n",
    "    limit_mad= 10 # a value need to be 'limit_mad' times bigger than the rest of the values to be identified as outlier \n",
    "    \n",
    "    \n",
    "    \n",
    "    \n",
    "    ####################################\n",
    "    #1) Filter files according to input\n",
    "    ####################################\n",
    "    all_files = []\n",
    "    target_files= []\n",
    "    \n",
    "    for file in glob.glob(\"chi*.fits\"):\n",
    "        fits_image_filename = file[file.find(\"\\\\\")+1:] \n",
    "        \n",
    "        with fits.open(fits_image_filename) as hdul:\n",
    "\n",
    "            h_object= hdul[0].header['OBJECT'].strip().lower()\n",
    "            h_decker= hdul[0].header['DECKER'].strip().lower()\n",
    "            h_ccd_sum =  hdul[0].header['CCDSUM'].strip().lower()          \n",
    "            \n",
    "            if h_object == target and h_decker == mode and h_ccd_sum == ccd_sum:\n",
    "                #print (\" -->> \"+h_object + \"  \"+ h_decker + \" \" +h_ccd_sum)\n",
    "                n_columns = int( hdul[0].header['NAXIS1'] )\n",
    "                n_rows = int( hdul[0].header['NAXIS2'])                \n",
    "                target_files.append(fits_image_filename)\n",
    "               \n",
    "    \n",
    "    files_num =len(target_files)\n",
    "    if (files_num <=2 ):\n",
    "        raise  Exception (\"There are not enough file to clean them from CR\")\n",
    "    else:\n",
    "        print (\"Number of files found: \" +str (files_num))\n",
    "        #print (target_files)\n",
    "    \n",
    "    #################################################################\n",
    "    # 2) Create Median Master bias + Master Median Absolute Deviation\n",
    "    #################################################################\n",
    "    \n",
    "    data_cube= np.zeros((n_rows,n_columns,files_num))\n",
    "    \n",
    "    for idx in range (files_num):\n",
    "        with fits.open(target_files[idx]) as hd:\n",
    "            data = hd[0].data            \n",
    "            data_cube[:,:,idx ] = data\n",
    "\n",
    "    master_median = np.median(data_cube, axis=2 )\n",
    "    master_abs_mad = mad_std(data_cube, axis=2 )\n",
    "    \n",
    "    #################################################################\n",
    "    # 2) Cleaning CR from every image + re writing on disk\n",
    "    #################################################################   \n",
    "    \n",
    "    \n",
    "    for f_idx in range (files_num):\n",
    "        with fits.open(target_files[f_idx]) as hd0:\n",
    "            img_header=hd0[0].header\n",
    "            img_data=hd0[0].data\n",
    "            \n",
    "            exclude = (img_data - master_median) / master_abs_mad > limit_mad\n",
    "            img_data[exclude] = 0\n",
    "            mask = np.multiply( exclude , master_median)\n",
    "            img_data = np.add(img_data,  mask)          \n",
    "\n",
    "        hdu=fits.PrimaryHDU(img_data,img_header)\n",
    "        hdul = fits.HDUList([hdu])\n",
    "        hdul.writeto(target_files[f_idx] ,overwrite=True)\n",
    "        \n",
    "        print (\"File : \"+target_files[f_idx]+  \"had \"+str(np.count_nonzero(exclude))+\"cr. It has been cleaned and overwritten successfully.\")\n",
    "    \n",
    "    print(\" - - - - -  End of Script - - - - - -  \")\n",
    "            \n",
    "    \n",
    "    \n",
    "\n",
    "\n"
   ]
  },
  {
   "cell_type": "code",
   "execution_count": 6,
   "metadata": {},
   "outputs": [
    {
     "name": "stdout",
     "output_type": "stream",
     "text": [
      "Number of files found: 18\n"
     ]
    },
    {
     "name": "stderr",
     "output_type": "stream",
     "text": [
      "C:\\Users\\mrstu\\Anaconda3\\lib\\site-packages\\ipykernel_launcher.py:69: RuntimeWarning: divide by zero encountered in true_divide\n",
      "C:\\Users\\mrstu\\Anaconda3\\lib\\site-packages\\ipykernel_launcher.py:69: RuntimeWarning: invalid value encountered in true_divide\n",
      "C:\\Users\\mrstu\\Anaconda3\\lib\\site-packages\\ipykernel_launcher.py:69: RuntimeWarning: invalid value encountered in greater\n"
     ]
    },
    {
     "name": "stdout",
     "output_type": "stream",
     "text": [
      "File : chi171218.1054.fitshad 51cr. It has been cleaned and overwritten successfully.\n",
      "File : chi171218.1055.fitshad 32cr. It has been cleaned and overwritten successfully.\n",
      "File : chi171218.1056.fitshad 59cr. It has been cleaned and overwritten successfully.\n",
      "File : chi171218.1057.fitshad 63cr. It has been cleaned and overwritten successfully.\n",
      "File : chi171218.1058.fitshad 39cr. It has been cleaned and overwritten successfully.\n",
      "File : chi171218.1059.fitshad 59cr. It has been cleaned and overwritten successfully.\n",
      "File : chi171218.1060.fitshad 33cr. It has been cleaned and overwritten successfully.\n",
      "File : chi171218.1061.fitshad 52cr. It has been cleaned and overwritten successfully.\n",
      "File : chi171218.1062.fitshad 75cr. It has been cleaned and overwritten successfully.\n",
      "File : chi171218.1256.fitshad 90cr. It has been cleaned and overwritten successfully.\n",
      "File : chi171218.1257.fitshad 133cr. It has been cleaned and overwritten successfully.\n",
      "File : chi171218.1258.fitshad 123cr. It has been cleaned and overwritten successfully.\n",
      "File : chi171218.1259.fitshad 137cr. It has been cleaned and overwritten successfully.\n",
      "File : chi171218.1260.fitshad 109cr. It has been cleaned and overwritten successfully.\n",
      "File : chi171218.1261.fitshad 167cr. It has been cleaned and overwritten successfully.\n",
      "File : chi171218.1262.fitshad 175cr. It has been cleaned and overwritten successfully.\n",
      "File : chi171218.1263.fitshad 163cr. It has been cleaned and overwritten successfully.\n",
      "File : chi171218.1264.fitshad 139cr. It has been cleaned and overwritten successfully.\n",
      " - - - - -  End of Script - - - - - -  \n"
     ]
    }
   ],
   "source": [
    "clean_cr_from_images( 'bias','slicer' , '3 1')"
   ]
  },
  {
   "cell_type": "code",
   "execution_count": 7,
   "metadata": {},
   "outputs": [
    {
     "name": "stdout",
     "output_type": "stream",
     "text": [
      "Number of files found: 40\n",
      "File : chi171218.1145.fitshad 29cr. It has been cleaned and overwritten successfully.\n",
      "File : chi171218.1146.fitshad 12cr. It has been cleaned and overwritten successfully.\n",
      "File : chi171218.1147.fitshad 19cr. It has been cleaned and overwritten successfully.\n",
      "File : chi171218.1148.fitshad 12cr. It has been cleaned and overwritten successfully.\n",
      "File : chi171218.1149.fitshad 8cr. It has been cleaned and overwritten successfully.\n",
      "File : chi171218.1150.fitshad 27cr. It has been cleaned and overwritten successfully.\n",
      "File : chi171218.1151.fitshad 10cr. It has been cleaned and overwritten successfully.\n",
      "File : chi171218.1152.fitshad 7cr. It has been cleaned and overwritten successfully.\n",
      "File : chi171218.1153.fitshad 21cr. It has been cleaned and overwritten successfully.\n",
      "File : chi171218.1154.fitshad 10cr. It has been cleaned and overwritten successfully.\n",
      "File : chi171218.1155.fitshad 14cr. It has been cleaned and overwritten successfully.\n",
      "File : chi171218.1156.fitshad 7cr. It has been cleaned and overwritten successfully.\n",
      "File : chi171218.1157.fitshad 5cr. It has been cleaned and overwritten successfully.\n",
      "File : chi171218.1158.fitshad 13cr. It has been cleaned and overwritten successfully.\n",
      "File : chi171218.1159.fitshad 26cr. It has been cleaned and overwritten successfully.\n",
      "File : chi171218.1160.fitshad 20cr. It has been cleaned and overwritten successfully.\n",
      "File : chi171218.1161.fitshad 14cr. It has been cleaned and overwritten successfully.\n",
      "File : chi171218.1162.fitshad 35cr. It has been cleaned and overwritten successfully.\n",
      "File : chi171218.1163.fitshad 33cr. It has been cleaned and overwritten successfully.\n",
      "File : chi171218.1164.fitshad 30cr. It has been cleaned and overwritten successfully.\n",
      "File : chi171218.1165.fitshad 24cr. It has been cleaned and overwritten successfully.\n",
      "File : chi171218.1166.fitshad 15cr. It has been cleaned and overwritten successfully.\n",
      "File : chi171218.1167.fitshad 13cr. It has been cleaned and overwritten successfully.\n",
      "File : chi171218.1168.fitshad 19cr. It has been cleaned and overwritten successfully.\n",
      "File : chi171218.1169.fitshad 25cr. It has been cleaned and overwritten successfully.\n",
      "File : chi171218.1170.fitshad 23cr. It has been cleaned and overwritten successfully.\n",
      "File : chi171218.1171.fitshad 7cr. It has been cleaned and overwritten successfully.\n",
      "File : chi171218.1172.fitshad 22cr. It has been cleaned and overwritten successfully.\n",
      "File : chi171218.1173.fitshad 10cr. It has been cleaned and overwritten successfully.\n",
      "File : chi171218.1174.fitshad 24cr. It has been cleaned and overwritten successfully.\n",
      "File : chi171218.1175.fitshad 33cr. It has been cleaned and overwritten successfully.\n",
      "File : chi171218.1176.fitshad 12cr. It has been cleaned and overwritten successfully.\n",
      "File : chi171218.1177.fitshad 39cr. It has been cleaned and overwritten successfully.\n",
      "File : chi171218.1178.fitshad 15cr. It has been cleaned and overwritten successfully.\n",
      "File : chi171218.1179.fitshad 36cr. It has been cleaned and overwritten successfully.\n",
      "File : chi171218.1180.fitshad 23cr. It has been cleaned and overwritten successfully.\n",
      "File : chi171218.1181.fitshad 17cr. It has been cleaned and overwritten successfully.\n",
      "File : chi171218.1182.fitshad 20cr. It has been cleaned and overwritten successfully.\n",
      "File : chi171218.1183.fitshad 29cr. It has been cleaned and overwritten successfully.\n",
      "File : chi171218.1184.fitshad 13cr. It has been cleaned and overwritten successfully.\n",
      " - - - - -  End of Script - - - - - -  \n"
     ]
    }
   ],
   "source": [
    "clean_cr_from_images( 'sirius','slicer' , '3 1')"
   ]
  },
  {
   "cell_type": "code",
   "execution_count": 8,
   "metadata": {},
   "outputs": [
    {
     "name": "stdout",
     "output_type": "stream",
     "text": [
      "Number of files found: 30\n",
      "File : chi171218.1039.fitshad 72cr. It has been cleaned and overwritten successfully.\n",
      "File : chi171218.1040.fitshad 77cr. It has been cleaned and overwritten successfully.\n",
      "File : chi171218.1041.fitshad 105cr. It has been cleaned and overwritten successfully.\n",
      "File : chi171218.1042.fitshad 68cr. It has been cleaned and overwritten successfully.\n",
      "File : chi171218.1043.fitshad 34cr. It has been cleaned and overwritten successfully.\n",
      "File : chi171218.1044.fitshad 62cr. It has been cleaned and overwritten successfully.\n",
      "File : chi171218.1045.fitshad 80cr. It has been cleaned and overwritten successfully.\n",
      "File : chi171218.1046.fitshad 45cr. It has been cleaned and overwritten successfully.\n",
      "File : chi171218.1047.fitshad 52cr. It has been cleaned and overwritten successfully.\n",
      "File : chi171218.1048.fitshad 117cr. It has been cleaned and overwritten successfully.\n",
      "File : chi171218.1049.fitshad 84cr. It has been cleaned and overwritten successfully.\n",
      "File : chi171218.1050.fitshad 59cr. It has been cleaned and overwritten successfully.\n",
      "File : chi171218.1051.fitshad 52cr. It has been cleaned and overwritten successfully.\n",
      "File : chi171218.1052.fitshad 103cr. It has been cleaned and overwritten successfully.\n",
      "File : chi171218.1053.fitshad 49cr. It has been cleaned and overwritten successfully.\n",
      "File : chi171218.1241.fitshad 95cr. It has been cleaned and overwritten successfully.\n",
      "File : chi171218.1242.fitshad 57cr. It has been cleaned and overwritten successfully.\n",
      "File : chi171218.1243.fitshad 49cr. It has been cleaned and overwritten successfully.\n",
      "File : chi171218.1244.fitshad 34cr. It has been cleaned and overwritten successfully.\n",
      "File : chi171218.1245.fitshad 78cr. It has been cleaned and overwritten successfully.\n",
      "File : chi171218.1246.fitshad 96cr. It has been cleaned and overwritten successfully.\n",
      "File : chi171218.1247.fitshad 68cr. It has been cleaned and overwritten successfully.\n",
      "File : chi171218.1248.fitshad 59cr. It has been cleaned and overwritten successfully.\n",
      "File : chi171218.1249.fitshad 71cr. It has been cleaned and overwritten successfully.\n",
      "File : chi171218.1250.fitshad 53cr. It has been cleaned and overwritten successfully.\n",
      "File : chi171218.1251.fitshad 51cr. It has been cleaned and overwritten successfully.\n",
      "File : chi171218.1252.fitshad 93cr. It has been cleaned and overwritten successfully.\n",
      "File : chi171218.1253.fitshad 134cr. It has been cleaned and overwritten successfully.\n",
      "File : chi171218.1254.fitshad 72cr. It has been cleaned and overwritten successfully.\n",
      "File : chi171218.1255.fitshad 63cr. It has been cleaned and overwritten successfully.\n",
      " - - - - -  End of Script - - - - - -  \n"
     ]
    }
   ],
   "source": [
    "clean_cr_from_images( 'quartz','slicer' , '3 1')"
   ]
  },
  {
   "cell_type": "code",
   "execution_count": 19,
   "metadata": {},
   "outputs": [
    {
     "name": "stdout",
     "output_type": "stream",
     "text": [
      "Number of bias files found: 18\n"
     ]
    },
    {
     "name": "stderr",
     "output_type": "stream",
     "text": [
      "C:\\Users\\mrstu\\Anaconda3\\lib\\site-packages\\ipykernel_launcher.py:48: RuntimeWarning: divide by zero encountered in true_divide\n",
      "C:\\Users\\mrstu\\Anaconda3\\lib\\site-packages\\ipykernel_launcher.py:48: RuntimeWarning: invalid value encountered in true_divide\n",
      "C:\\Users\\mrstu\\Anaconda3\\lib\\site-packages\\ipykernel_launcher.py:48: RuntimeWarning: invalid value encountered in greater\n"
     ]
    },
    {
     "name": "stdout",
     "output_type": "stream",
     "text": [
      "File : chi171218.1054.fits had 51cr. It has been cleaned and overwritten successfully.\n",
      "File : chi171218.1055.fits had 32cr. It has been cleaned and overwritten successfully.\n",
      "File : chi171218.1056.fits had 59cr. It has been cleaned and overwritten successfully.\n",
      "File : chi171218.1057.fits had 63cr. It has been cleaned and overwritten successfully.\n",
      "File : chi171218.1058.fits had 39cr. It has been cleaned and overwritten successfully.\n",
      "File : chi171218.1059.fits had 59cr. It has been cleaned and overwritten successfully.\n",
      "File : chi171218.1060.fits had 33cr. It has been cleaned and overwritten successfully.\n",
      "File : chi171218.1061.fits had 52cr. It has been cleaned and overwritten successfully.\n",
      "File : chi171218.1062.fits had 75cr. It has been cleaned and overwritten successfully.\n",
      "File : chi171218.1256.fits had 90cr. It has been cleaned and overwritten successfully.\n",
      "File : chi171218.1257.fits had 133cr. It has been cleaned and overwritten successfully.\n",
      "File : chi171218.1258.fits had 123cr. It has been cleaned and overwritten successfully.\n",
      "File : chi171218.1259.fits had 137cr. It has been cleaned and overwritten successfully.\n",
      "File : chi171218.1260.fits had 109cr. It has been cleaned and overwritten successfully.\n",
      "File : chi171218.1261.fits had 167cr. It has been cleaned and overwritten successfully.\n",
      "File : chi171218.1262.fits had 175cr. It has been cleaned and overwritten successfully.\n",
      "File : chi171218.1263.fits had 163cr. It has been cleaned and overwritten successfully.\n",
      "File : chi171218.1264.fits had 139cr. It has been cleaned and overwritten successfully.\n"
     ]
    }
   ],
   "source": [
    "# 1) From all fits files filter bias only \n",
    "\n",
    "\n",
    "all_files = []\n",
    "bias_files= []\n",
    "\n",
    "for file in glob.glob(\"chi*.fits\"):\n",
    "    \n",
    "    fits_image_filename = file[file.find(\"\\\\\")+1:]\n",
    "#     all_files.append(file_name)\n",
    "    with fits.open(fits_image_filename) as hdul:\n",
    "    \n",
    "        h_object= hdul[0].header['OBJECT'].strip().lower()\n",
    "        h_decker= hdul[0].header['DECKER'].strip().lower()\n",
    "        h_ccd_sum =  hdul[0].header['CCDSUM'].strip().lower()\n",
    "    if h_object == 'bias' and h_decker == 'slicer' and h_ccd_sum == '3 1':\n",
    "        bias_files.append(fits_image_filename)\n",
    "   \n",
    "    \n",
    "    \n",
    "#print ( \"Number of files found: \" + str(len(all_files))  )\n",
    "# for l in all_files:    \n",
    "#     print (str(l))\n",
    "\n",
    "print ( \"Number of bias files found: \" + str(len(bias_files))  )\n",
    "\n",
    "\n",
    "\n",
    "data_cube= np.zeros((4112,1432,len(bias_files)))\n",
    "    \n",
    "for idx in range (len( bias_files) ):\n",
    "    with fits.open(bias_files[idx]) as hd:\n",
    "        data = hd[0].data            \n",
    "        data_cube[:,:,idx ] = data\n",
    "\n",
    "master_median = np.median(data_cube, axis=2 )\n",
    "master_abs_mad = mad_std(data_cube, axis=2 )\n",
    "\n",
    "\n",
    "\n",
    "output_dir= 'for_comparison/'\n",
    "\n",
    "for bias_f in bias_files:    \n",
    "    with fits.open(bias_f) as hd0:\n",
    "        img_header=hd0[0].header\n",
    "        \n",
    "        img_data=hd0[0].data\n",
    "        exclude = (img_data - master_median) / master_abs_mad > 10\n",
    "        counter=np.count_nonzero(exclude)\n",
    "        img_data[exclude] = 1\n",
    "        \n",
    "    \n",
    "        exclude = ~exclude\n",
    "        img_data[exclude] = 0\n",
    "    \n",
    "    hdu=fits.PrimaryHDU(img_data,img_header)\n",
    "    hdul = fits.HDUList([hdu])\n",
    "    hdul.writeto(output_dir+bias_f ,overwrite=True)\n",
    "        \n",
    "    print (\"File : \"+bias_f+  \" had \"+str(counter)+\"cr. It has been cleaned and overwritten successfully.\")\n",
    "    \n",
    "\n",
    "        \n",
    "            \n",
    "    \n",
    "    "
   ]
  },
  {
   "cell_type": "code",
   "execution_count": 10,
   "metadata": {},
   "outputs": [
    {
     "name": "stdout",
     "output_type": "stream",
     "text": [
      "[False False False  True]\n"
     ]
    }
   ],
   "source": [
    "x=[True, True, True, False]\n",
    "x =np.array(x)\n",
    "y=  ~x\n",
    "print (y)"
   ]
  },
  {
   "cell_type": "code",
   "execution_count": null,
   "metadata": {},
   "outputs": [],
   "source": [
    "\n",
    "        \n",
    "        \n",
    "        "
   ]
  },
  {
   "cell_type": "code",
   "execution_count": null,
   "metadata": {},
   "outputs": [],
   "source": []
  },
  {
   "cell_type": "code",
   "execution_count": null,
   "metadata": {},
   "outputs": [],
   "source": []
  },
  {
   "cell_type": "code",
   "execution_count": null,
   "metadata": {},
   "outputs": [],
   "source": [
    "\n"
   ]
  },
  {
   "cell_type": "code",
   "execution_count": null,
   "metadata": {},
   "outputs": [],
   "source": []
  },
  {
   "cell_type": "code",
   "execution_count": null,
   "metadata": {},
   "outputs": [],
   "source": []
  }
 ],
 "metadata": {
  "kernelspec": {
   "display_name": "Python 3",
   "language": "python",
   "name": "python3"
  },
  "language_info": {
   "codemirror_mode": {
    "name": "ipython",
    "version": 3
   },
   "file_extension": ".py",
   "mimetype": "text/x-python",
   "name": "python",
   "nbconvert_exporter": "python",
   "pygments_lexer": "ipython3",
   "version": "3.7.7"
  }
 },
 "nbformat": 4,
 "nbformat_minor": 4
}
