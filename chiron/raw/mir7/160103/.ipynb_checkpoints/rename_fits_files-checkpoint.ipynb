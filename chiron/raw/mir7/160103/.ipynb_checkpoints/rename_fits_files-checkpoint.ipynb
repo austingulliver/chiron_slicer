{
 "cells": [
  {
   "cell_type": "code",
   "execution_count": 1,
   "metadata": {},
   "outputs": [
    {
     "name": "stdout",
     "output_type": "stream",
     "text": [
      "All libraries imported successfully!\n"
     ]
    }
   ],
   "source": [
    "import glob\n",
    "from astropy.io import fits\n",
    "import numpy as np\n",
    "from astropy.stats import mad_std\n",
    "print (\"All libraries imported successfully!\") \n"
   ]
  },
  {
   "cell_type": "code",
   "execution_count": 15,
   "metadata": {},
   "outputs": [
    {
     "name": "stdout",
     "output_type": "stream",
     "text": [
      "['2016', '01', '03']\n",
      "160103\n",
      "180847\n"
     ]
    }
   ],
   "source": [
    "files_list= []\n",
    "    \n",
    "    \n",
    "# Need to merge HEADERS \n",
    "\n",
    "for file in glob.glob(\"*.fits\"):\n",
    "    fits_image_filename = file[file.find(\"\\\\\")+1:] \n",
    "\n",
    "    with fits.open(fits_image_filename) as hdul:\n",
    "        \n",
    "        try :\n",
    "            h_date= hdul[1].header['DATE'].strip().lower()\n",
    "        except:\n",
    "            h_date= hdul[0].header['DATE'].strip().lower()\n",
    "        \n",
    "        time_i= h_date.index('t')\n",
    "        \n",
    "        night= (h_date[: time_i]).split('-')\n",
    "        print (night)\n",
    "        night = [ n.strip() for n in night]\n",
    "        \n",
    "        year = (night[0])[2:]\n",
    "        month =night[1]\n",
    "        day =night[2]\n",
    "        dateStr = str(year)+ str(month)+str(day)\n",
    "        \n",
    "                        \n",
    "        \n",
    "        time= h_object[time_i+1:]        \n",
    "        times =time.split(':')\n",
    "        times = [  t.strip() for t in times]\n",
    "        time = int(times[0]+times[1]+times[2])\n",
    "        \n",
    "        \n",
    "        files_list.append([time, dateStr,fits_image_filename  ])\n",
    "                          # int : time , str : date YYMMDD ,  str : original file name\n",
    "        \n",
    "        \n",
    "        \n",
    "\n",
    "\n",
    "#Sort list by Time  save or overwrite file with new name : maybe there is a  procedure to dont erase but just change \n",
    "\n",
    "        \n",
    "        \n",
    "                 \n",
    "\n",
    "            \n",
    "            "
   ]
  },
  {
   "cell_type": "code",
   "execution_count": null,
   "metadata": {},
   "outputs": [],
   "source": []
  }
 ],
 "metadata": {
  "kernelspec": {
   "display_name": "Python 3",
   "language": "python",
   "name": "python3"
  },
  "language_info": {
   "codemirror_mode": {
    "name": "ipython",
    "version": 3
   },
   "file_extension": ".py",
   "mimetype": "text/x-python",
   "name": "python",
   "nbconvert_exporter": "python",
   "pygments_lexer": "ipython3",
   "version": "3.7.7"
  }
 },
 "nbformat": 4,
 "nbformat_minor": 4
}
